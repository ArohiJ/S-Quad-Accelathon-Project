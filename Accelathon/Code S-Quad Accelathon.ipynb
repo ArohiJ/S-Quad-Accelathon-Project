{
 "cells": [
  {
   "cell_type": "code",
   "execution_count": 134,
   "metadata": {},
   "outputs": [],
   "source": [
    "from tkinter import *\n",
    "import pandas as pd\n",
    "import sqlite3\n",
    "import functools\n",
    "from tkinter import messagebox\n",
    "import cv2\n",
    "import numpy as np\n",
    "from scipy.stats import *\n",
    "from scipy import ndimage\n",
    "from PIL import ImageTk, Image\n",
    "import os\n",
    "import pandas as pd\n",
    "import tkinter as tk"
   ]
  },
  {
   "cell_type": "code",
   "execution_count": 135,
   "metadata": {},
   "outputs": [
    {
     "data": {
      "text/plain": [
       "<sqlite3.Cursor at 0xc8bce67260>"
      ]
     },
     "execution_count": 135,
     "metadata": {},
     "output_type": "execute_result"
    }
   ],
   "source": [
    "conn = sqlite3.connect(\"Venture.db\")\n",
    "c = conn.cursor()\n",
    "c.execute('CREATE TABLE IF NOT EXISTS user(user_id INTEGER PRIMARY KEY, name text, username text, password text, email text, phone text)')"
   ]
  },
  {
   "cell_type": "code",
   "execution_count": 136,
   "metadata": {},
   "outputs": [],
   "source": [
    "def add_user(username,password,name,phone,email,root):\n",
    "    try:\n",
    "        query = \"INSERT INTO user VALUES(null,?,?,?,?,?)\"\n",
    "        values = [name,username,password,email,phone]\n",
    "        c.execute(query,values)\n",
    "        conn.commit()\n",
    "        log_in_fnc(root)\n",
    "    except:\n",
    "        messagebox.showinfo(\"Error\",\"User name alredy exist\")\n",
    "        \n",
    "    "
   ]
  },
  {
   "cell_type": "code",
   "execution_count": 137,
   "metadata": {},
   "outputs": [],
   "source": [
    "def user_exits(username,password,root):\n",
    "    try:\n",
    "        query = \"select password from user where username = '\"+username+\"'\"\n",
    "        c.execute(query)\n",
    "        d = c.fetchall()\n",
    "        if d[0][0] == password:\n",
    "            root.destroy()\n",
    "            main(username)\n",
    "        else:\n",
    "            messagebox.showwarning(\"Warning\",\"Incorrect Password\")\n",
    "    except:\n",
    "        messagebox.showinfo(\"Error\",\"Username doesn't exist!\")"
   ]
  },
  {
   "cell_type": "code",
   "execution_count": 138,
   "metadata": {},
   "outputs": [],
   "source": [
    "def get_details(pid):\n",
    "    c.execute(\"select * from project where usernmae\")    "
   ]
  },
  {
   "cell_type": "code",
   "execution_count": 139,
   "metadata": {},
   "outputs": [],
   "source": [
    "def log_in_fnc(root):\n",
    "    root.destroy()\n",
    "    win2=Tk()\n",
    "    \n",
    "    head=Label(win2, text=\"Log-In Page\", fg='#39FF14', font=(\"Helvetica\", 22, \"bold\"))\n",
    "    head.place(x=300, y=45) \n",
    "    head.configure(background='black')\n",
    "    \n",
    "    txt1=Label(win2, text=\"Enter the username\", fg='#39FF14', font=(\"Helvetica\", 18))\n",
    "    txt1.place(x=100, y=150)\n",
    "    txt1.configure(background='black')\n",
    "    \n",
    "    username=StringVar    \n",
    "    path1=Entry(win2, textvariable=username, width=50)\n",
    "    path1.place(x=420, y=155)\n",
    "    \n",
    "    txt2=Label(win2, text=\"Enter the password\", fg='#39FF14', font=(\"Helvetica\", 18))\n",
    "    txt2.place(x=100, y=200)\n",
    "    txt2.configure(background='black')\n",
    "    \n",
    "    password=StringVar    \n",
    "    path2=Entry(win2, textvariable=password, width=50)\n",
    "    path2.place(x=420, y=205)\n",
    "    \n",
    "    log_btn=Button(win2, text=\"Log-In\", fg='black', command=lambda:user_exits(path1.get(),path2.get(),win2))\n",
    "    log_btn.place(x=250, y=350)\n",
    "    log_btn.config(height = 5, width = 50, background='#39FF14')\n",
    "\n",
    "    win2.title('Log-In Page')\n",
    "    win2.configure(background='black')\n",
    "    win2.geometry(\"900x500+100+50\")\n",
    "    win2.mainloop()"
   ]
  },
  {
   "cell_type": "code",
   "execution_count": 140,
   "metadata": {},
   "outputs": [],
   "source": [
    "def details_fnc(username, password):\n",
    "    win4=Tk()\n",
    "    \n",
    "    head=Label(win4, text=\"Details Page\", fg='black', font=(\"Helvetica\", 22, \"bold\"))\n",
    "    head.place(x=300, y=45) \n",
    "    head.configure(background='dark olive green')\n",
    "    \n",
    "    txt1=Label(win4, text=\"Enter your Name\", fg='black', font=(\"Helvetica\", 18))\n",
    "    txt1.place(x=100, y=150)\n",
    "    txt1.configure(background='dark olive green')\n",
    "    \n",
    "    name=StringVar    \n",
    "    path1=Entry(win4, textvariable=name, width=50)\n",
    "    path1.place(x=420, y=155)\n",
    "    \n",
    "    txt2=Label(win4, text=\"Enter your Email\", fg='black', font=(\"Helvetica\", 18))\n",
    "    txt2.place(x=100, y=200)\n",
    "    txt2.configure(background='dark olive green')\n",
    "    \n",
    "    txt3=Label(win4, text=\"Enter your phone number\", fg='black', font=(\"Helvetica\", 18))\n",
    "    txt3.place(x=100, y=250)\n",
    "    txt3.configure(background='dark olive green')\n",
    "    \n",
    "    ph_no=StringVar    \n",
    "    path2=Entry(win4, textvariable=ph_no, width=50)\n",
    "    path2.place(x=420, y=255)\n",
    "    \n",
    "    email=StringVar    \n",
    "    path3=Entry(win4, textvariable=email, width=50)\n",
    "    path3.place(x=420, y=205)\n",
    "    #username,password,name,phone,email,root\n",
    "    log_btn=Button(win4, text=\"Next\", fg='black', command= lambda: add_user(username,password,path1.get(),path2.get(),path3.get(),win4))\n",
    "    log_btn.place(x=250, y=350)\n",
    "    log_btn.config(height = 5, width = 50, background='ivory')\n",
    "\n",
    "    win4.title('Details Page')\n",
    "    win4.configure(background='dark olive green')\n",
    "    win4.geometry(\"900x500+100+50\")\n",
    "    win4.mainloop()"
   ]
  },
  {
   "cell_type": "code",
   "execution_count": 141,
   "metadata": {},
   "outputs": [],
   "source": [
    "def sign_up_fnc(root):\n",
    "    root.destroy()\n",
    "    win3=Tk()\n",
    "    \n",
    "    head=Label(win3, text=\"Sign-up Page\", fg='#39FF14', font=(\"Helvetica\", 22, \"bold\"))\n",
    "    head.place(x=300, y=45) \n",
    "    head.configure(background='black')\n",
    "    \n",
    "    txt1=Label(win3, text=\"Enter the username\", fg='#39FF14', font=(\"Helvetica\", 18))\n",
    "    txt1.place(x=100, y=150)\n",
    "    txt1.configure(background='black')\n",
    "    \n",
    "    username=StringVar    \n",
    "    path=Entry(win3, textvariable=username, width=50)\n",
    "    path.place(x=420, y=155)\n",
    "    \n",
    "    txt2=Label(win3, text=\"Enter the password\", fg='#39FF14', font=(\"Helvetica\", 18))\n",
    "    txt2.place(x=100, y=200)\n",
    "    txt2.configure(background='black')\n",
    "    \n",
    "    password1=StringVar    \n",
    "    pass1=Entry(win3, textvariable=password1, width=50)\n",
    "    pass1.place(x=420, y=205)\n",
    "    \n",
    "    txt3=Label(win3, text=\"Re-enter the password\", fg='#39FF14', font=(\"Helvetica\", 18))\n",
    "    txt3.place(x=100, y=250)\n",
    "    txt3.configure(background='black')\n",
    "    \n",
    "    password2=StringVar    \n",
    "    pass2=Entry(win3, textvariable=password2, width=50)\n",
    "    pass2.place(x=420, y=255)\n",
    "    \n",
    "    def check_fnc():\n",
    "        password1=pass1.get()\n",
    "        password2=pass2.get()\n",
    "        if(password1==password2):\n",
    "            details_fnc(path.get(),password1)\n",
    "        else:\n",
    "            err_pass=Label(win3, text=\"Passwords Mismatch!\", fg='#39FF14', font=(\"Helvetica\", 18))\n",
    "            err_pass.place(x=420, y=305)\n",
    "            err_pass.configure(background='black')\n",
    "            \n",
    "    \n",
    "    sign_btn=Button(win3, text=\"Sign-Up\", fg='#39FF14', command=check_fnc)\n",
    "    sign_btn.place(x=250, y=350)\n",
    "    sign_btn.config(height = 5, width = 50, background='black')\n",
    "\n",
    "\n",
    "    win3.title('Sign-up Page')\n",
    "    win3.configure(background='black')\n",
    "    win3.geometry(\"900x500+100+50\")\n",
    "    win3.mainloop()"
   ]
  },
  {
   "cell_type": "code",
   "execution_count": 142,
   "metadata": {},
   "outputs": [],
   "source": [
    "def join_team(Pid,admin):\n",
    "    try:\n",
    "        query = \"INSERT INTO teams VALUES(?,?)\"\n",
    "        values = [int(Pid),admin]\n",
    "        c.execute(query,values)\n",
    "        conn.commit()\n",
    "    except:\n",
    "        messagebox.showinfo(\"Error\",\"You are alrady in the team!\")"
   ]
  },
  {
   "cell_type": "code",
   "execution_count": 143,
   "metadata": {},
   "outputs": [],
   "source": [
    "#user_id\n",
    "#username\n",
    "#password\n",
    "#phone\n",
    "#Email"
   ]
  },
  {
   "cell_type": "code",
   "execution_count": 144,
   "metadata": {},
   "outputs": [],
   "source": [
    "#Pid\n",
    "#name\n",
    "#disc\n",
    "#admin"
   ]
  },
  {
   "cell_type": "code",
   "execution_count": 145,
   "metadata": {},
   "outputs": [],
   "source": [
    "c.execute('CREATE TABLE IF NOT EXISTS user(user_id INTEGER PRIMARY KEY, name text, username text UNIQUE, password text, email text, phone text)')\n",
    "conn.commit()"
   ]
  },
  {
   "cell_type": "code",
   "execution_count": 146,
   "metadata": {},
   "outputs": [],
   "source": [
    "c.execute('CREATE TABLE IF NOT EXISTS project(Pid INTEGER PRIMARY KEY, name text UNIQUE, disc blob, admin text)')\n",
    "conn.commit()"
   ]
  },
  {
   "cell_type": "code",
   "execution_count": 147,
   "metadata": {},
   "outputs": [],
   "source": [
    "def get_project():\n",
    "    query = \"select * from project\"\n",
    "    c.execute(query)\n",
    "    d = c.fetchall()\n",
    "    return d"
   ]
  },
  {
   "cell_type": "code",
   "execution_count": null,
   "metadata": {},
   "outputs": [],
   "source": []
  },
  {
   "cell_type": "code",
   "execution_count": 148,
   "metadata": {},
   "outputs": [],
   "source": [
    "def add_project(name,desc,admin,root):\n",
    "    root.destroy()\n",
    "    try:\n",
    "        query = \"INSERT INTO project VALUES(null,?,?,?)\"\n",
    "        values = [name,desc,admin]\n",
    "        c.execute(query,values)\n",
    "        conn.commit()\n",
    "    except:\n",
    "        messagebox.showinfo(\"Error\",\"Project name alredy exist\")\n",
    "    \n",
    "    main(admin)"
   ]
  },
  {
   "cell_type": "code",
   "execution_count": 149,
   "metadata": {},
   "outputs": [],
   "source": [
    "#c.execute(\"drop table project\")\n",
    "#conn.commit()"
   ]
  },
  {
   "cell_type": "code",
   "execution_count": 150,
   "metadata": {},
   "outputs": [],
   "source": [
    "def new(Username,old):\n",
    "    old.destroy()\n",
    "\n",
    "    root = Tk()\n",
    "    root.geometry(\"1000x1000\")\n",
    "    root.configure(background='black')\n",
    "    \n",
    "    label1 = Label(root,text=\"Project Name:\",fg=\"white\",bg=\"black\",font=(\"Helvetica\",18))\n",
    "    label1.place(x=50,y=100)\n",
    "    \n",
    "    label2 = Label(root,text=\"Project Description:\",fg=\"white\",bg=\"black\",font=(\"Helvetica\",18))\n",
    "    label2.place(x=50,y=250)\n",
    "    \n",
    "    entry1 = Text(root,width=35,height=2.5,font=(\"Helvetica\",18))\n",
    "    entry1.place(x=50,y=150)\n",
    "    \n",
    "    entry2 = Text(root,height=10,width=50,font=(\"Helvetica\",18))\n",
    "    entry2.place(x=50,y=300)\n",
    "    \n",
    "    button = Button(root,text=\"Submit\",width=20,height=3,\n",
    "                    command= lambda:add_project(entry1.get(1.0,END),entry2.get(1.0,END),Username,root))\n",
    "    button.place(x=50,y=600)\n",
    "    \n",
    "    root.mainloop()\n",
    "    \n",
    "    main(Username)\n"
   ]
  },
  {
   "cell_type": "code",
   "execution_count": 151,
   "metadata": {},
   "outputs": [],
   "source": [
    "def main(username):\n",
    "    def _on_mousewheel(event):\n",
    "        #print(-1*(event.delta/120))\n",
    "        canvas_container.yview_scroll(int(-1*(event.delta/120)),\"units\")\n",
    "    \n",
    "    root = Tk()\n",
    "    root.geometry(\"1000x1000\")\n",
    "    root.configure(background='black')\n",
    "\n",
    "    frame_container=Frame(root,width=1000,height=1000,bg=\"black\")\n",
    "    \n",
    "    canvas_container=Canvas(frame_container, height=1000,width=300,bg=\"black\")\n",
    "    frame2=Frame(canvas_container,bg=\"black\")\n",
    "    myscrollbar=Scrollbar(frame_container,orient=\"vertical\",command=canvas_container.yview,width=5) # will be visible if the frame2 is to to big for the canvas\n",
    "    canvas_container.bind_all('<MouseWheel>',_on_mousewheel)\n",
    "    canvas_container.create_window((0,0),window=frame2,anchor='w')\n",
    "    \n",
    "    Details = Label(root,width=76,height=50,font=(\"Helvetica\", 12),anchor='nw')\n",
    "    Details.place(x=310,y=0)\n",
    "    \n",
    "\n",
    "    def func(name,username):\n",
    "        Details.config(text=name[1]+\"\\n\\n\"+name[2])\n",
    "        Button2 = Button(Details,text=\"Join Team\",width=20,height=2,bd=2,command=lambda:join_team(name[0],username))\n",
    "        Button2.place(relx=0.75,rely=0.9)\n",
    "        print (name)\n",
    "    mylist = get_project()\n",
    "        #(p_name,disc)\n",
    "    #mylist = ['item1','item2','item3','item4','item5','item6','item7','item8','item9','item1','item2','item3','item4','item5','item6','item7','item8','item9','item1','item2','item3','item4','item5','item6','item7','item8','item9',\n",
    "    #         'item1','item2','item3','item4','item5','item6','item7','item8','item9','item1','item2','item3','item4','item5','item6','item7','item8','item9','item1','item2','item3','item4','item5','item6','item7','item8','item9']\n",
    "    for item in mylist:\n",
    "        button = Button(frame2,text=item[1],command=functools.partial(func,item,username),height=5,width=30,bd=2,bg=\"black\",fg=\"white\",font=(\"Helvetica\", 12))\n",
    "        button.pack()\n",
    "\n",
    "\n",
    "    frame2.update() # update frame2 height so it's no longer 0 ( height is 0 when it has just been created )\n",
    "    canvas_container.configure(yscrollcommand=myscrollbar.set, scrollregion=\"0 0 0 %s\" % frame2.winfo_height()) # the scrollregion mustbe the size of the frame inside it,\n",
    "                                                                                                                #in this case \"x=0 y=0 width=0 height=frame2height\"\n",
    "                                                                                                                #width 0 because we only scroll verticaly so don't mind about the width.\n",
    "\n",
    "    canvas_container.pack(side=LEFT)\n",
    "    myscrollbar.pack(side=RIGHT, fill = Y)\n",
    "\n",
    "    frame_container.grid(row=0,column=0)\n",
    "\n",
    "\n",
    "    Button_Frames =Frame(root,bg=\"cyan\",width=1000,height=75,)\n",
    "    Button_Frames.place(relx=0,rely=0.909)\n",
    "\n",
    "    Button1 = Button(Button_Frames,text=\"My Profile\",width=20,height=2,bd=2,command=lambda:profile_fnc(\"C:\\\\Users\\\\arohi_000\\\\Downloads\\\\Sample.jpg\"))\n",
    "    Button1.place(relx =0.7,rely=0.15)\n",
    "\n",
    "    Button2 = Button(Button_Frames,text=\"Upload Project\",width=20,height=2,bd=2,command=lambda:new(\"abhu\",root))\n",
    "    Button2.place(relx=0.4,rely=0.15)\n",
    "    \n",
    "    root.title('Project List')\n",
    "    root.mainloop()\n",
    "    "
   ]
  },
  {
   "cell_type": "code",
   "execution_count": null,
   "metadata": {},
   "outputs": [],
   "source": []
  },
  {
   "cell_type": "code",
   "execution_count": 154,
   "metadata": {},
   "outputs": [],
   "source": [
    "def profile_fnc(path):    \n",
    "    win5=Tk()\n",
    "    \n",
    "    im = Image.open(path)\n",
    "    c_im = im.crop((0,0,200,200))\n",
    "    ph = ImageTk.PhotoImage(c_im, master=win5)\n",
    "    label = Label(win5, image=ph)\n",
    "    label.image=ph\n",
    "    label.place(x=100, y=100)\n",
    "    \n",
    "    d_img = cv2.imread(path, 0)\n",
    "    crop_img = d_img[0:200, 0:200]\n",
    "    \n",
    "    name=Label(win5, text=\"Name = Goutham Shanbhag\", fg=\"#39FF14\", font=(\"Helvetica\", 18))\n",
    "    name.place(x=400, y=150)\n",
    "    name.configure(background='black')\n",
    "    \n",
    "    email=Label(win5, text=\"Email = shanbhagji@gmail.com\", fg='#39FF14', font=(\"Helvetica\", 18))\n",
    "    email.place(x=400, y=200)\n",
    "    email.configure(background='black')\n",
    "    \n",
    "    ph_no=Label(win5, text=\"Phone Number = 8296564044\", fg='#39FF14', font=(\"Helvetica\", 18))\n",
    "    ph_no.place(x=400, y=250)\n",
    "    ph_no.configure(background='black')\n",
    "    \n",
    "    proj=Label(win5, text=\"My projects\", fg='#39FF14', font=(\"Helvetica\", 18))\n",
    "    proj.place(x=100, y=320)\n",
    "    proj.configure(background='black') \n",
    "    \n",
    "    frame_container=Frame(win5,width=1000,height=250)\n",
    "\n",
    "    canvas_container=Canvas(frame_container,width=950, height=250)\n",
    "    frame2=Frame(canvas_container)\n",
    "    myscrollbar=Scrollbar(frame_container,orient=\"vertical\",command=canvas_container.yview) # will be visible if the frame2 is to to big for the canvas\n",
    "    canvas_container.create_window((0,0),window=frame2,anchor='w')\n",
    "\n",
    "    def func(name):\n",
    "        print (name)\n",
    "    mylist = ['Project 1','Project 2','Project3','Project 4','Project 5']\n",
    "    for item in mylist:\n",
    "        button = Button(frame2,text=item,command=functools.partial(func,item),height=5,width=120,bd=3)\n",
    "        button.pack()\n",
    "\n",
    "\n",
    "    frame2.update() # update frame2 height so it's no longer 0 ( height is 0 when it has just been created )\n",
    "    canvas_container.configure(yscrollcommand=myscrollbar.set, scrollregion=\"0 0 0 %s\" % frame2.winfo_height()) # the scrollregion mustbe the size of the frame inside it,\n",
    "                                                                                                            #in this case \"x=0 y=0 width=0 height=frame2height\"\n",
    "                                                                                                            #width 0 because we only scroll verticaly so don't mind about the width.\n",
    "\n",
    "    canvas_container.pack(side=LEFT)\n",
    "    myscrollbar.pack(side=RIGHT, fill = Y)\n",
    "    \n",
    "    frame_container.place(x=100, y= 380)\n",
    "    \n",
    "    win5.title('My Profile Page')\n",
    "    win5.configure(background='black')\n",
    "    win5.geometry(\"1300x700+5+5\")\n",
    "    win5.mainloop()    "
   ]
  },
  {
   "cell_type": "code",
   "execution_count": 157,
   "metadata": {},
   "outputs": [],
   "source": [
    "window=Tk()\n",
    "\n",
    "head=Label(window, text=\"Welcome to Venture\", fg='#39FF14', font=(\"Helvetica\", 22, \"bold\"))\n",
    "head.place(x=300, y=45)\n",
    "head.configure(background='black')\n",
    "\n",
    "# txt=Label(window, text=\"Choose an option:\", fg='#39FF14', font=(\"Helvetica\", 18))\n",
    "# txt.place(x=350, y=100)\n",
    "# txt.configure(background='black')\n",
    "\n",
    "log_btn=Button(window, text=\"Log-In\", fg='#39FF14',command= lambda:log_in_fnc(window),bd=0,font=(\"Helvetica\", 18))\n",
    "log_btn.place(x=300, y=200)\n",
    "log_btn.config(height = 5, width = 20, background='black')\n",
    "\n",
    "sign_btn=Button(window, text=\"Sign-up\", fg='#39FF14',command=lambda :sign_up_fnc(window),bd=0,font=(\"Helvetica\", 18))\n",
    "sign_btn.place(x=300, y=350)\n",
    "sign_btn.config(height = 5, width = 20, background='black')\n",
    "\n",
    "window.title('Ventrue')\n",
    "window.configure(background='black')\n",
    "window.geometry(\"900x500+100+50\")\n",
    "window.mainloop()"
   ]
  },
  {
   "cell_type": "raw",
   "metadata": {},
   "source": []
  },
  {
   "cell_type": "raw",
   "metadata": {},
   "source": []
  },
  {
   "cell_type": "raw",
   "metadata": {},
   "source": []
  },
  {
   "cell_type": "code",
   "execution_count": 99,
   "metadata": {},
   "outputs": [],
   "source": [
    "c.execute('CREATE TABLE IF NOT EXISTS teams(Pid INTEGER,admin text,UNIQUE(Pid,admin))')\n",
    "conn.commit()"
   ]
  },
  {
   "cell_type": "code",
   "execution_count": 92,
   "metadata": {},
   "outputs": [],
   "source": [
    "c.execute(\"drop table project\")\n",
    "conn.commit()"
   ]
  },
  {
   "cell_type": "code",
   "execution_count": 21,
   "metadata": {},
   "outputs": [],
   "source": [
    "#c.execute(\"drop table user\")\n",
    "#conn.commit()"
   ]
  },
  {
   "cell_type": "code",
   "execution_count": null,
   "metadata": {},
   "outputs": [],
   "source": [
    "c.execute(\"create table\")"
   ]
  },
  {
   "cell_type": "code",
   "execution_count": 121,
   "metadata": {},
   "outputs": [
    {
     "name": "stdout",
     "output_type": "stream",
     "text": [
      "[(3, 'arohi'), (4, 'arohi'), (1, 'abhay'), (2, 'abhay')]\n"
     ]
    }
   ],
   "source": [
    "c.execute(\"select *from teams\")\n",
    "print(c.fetchall())"
   ]
  },
  {
   "cell_type": "code",
   "execution_count": 71,
   "metadata": {},
   "outputs": [
    {
     "ename": "TclError",
     "evalue": "image \"pyimage21\" doesn't exist",
     "output_type": "error",
     "traceback": [
      "\u001b[1;31m---------------------------------------------------------------------------\u001b[0m",
      "\u001b[1;31mTclError\u001b[0m                                  Traceback (most recent call last)",
      "\u001b[1;32m<ipython-input-71-60a07dd3a894>\u001b[0m in \u001b[0;36m<module>\u001b[1;34m\u001b[0m\n\u001b[0;32m      5\u001b[0m \u001b[0mC\u001b[0m \u001b[1;33m=\u001b[0m \u001b[0mCanvas\u001b[0m\u001b[1;33m(\u001b[0m\u001b[0mtop\u001b[0m\u001b[1;33m,\u001b[0m \u001b[0mbg\u001b[0m\u001b[1;33m=\u001b[0m\u001b[1;34m\"blue\"\u001b[0m\u001b[1;33m,\u001b[0m \u001b[0mheight\u001b[0m\u001b[1;33m=\u001b[0m\u001b[1;36m250\u001b[0m\u001b[1;33m,\u001b[0m \u001b[0mwidth\u001b[0m\u001b[1;33m=\u001b[0m\u001b[1;36m300\u001b[0m\u001b[1;33m)\u001b[0m\u001b[1;33m\u001b[0m\u001b[1;33m\u001b[0m\u001b[0m\n\u001b[0;32m      6\u001b[0m \u001b[0mfilename\u001b[0m \u001b[1;33m=\u001b[0m \u001b[0mPhotoImage\u001b[0m\u001b[1;33m(\u001b[0m\u001b[0mfile\u001b[0m \u001b[1;33m=\u001b[0m \u001b[1;34m\"C:\\\\Users\\\\Goutam\\\\Desktop\\\\project images\\\\1.png\"\u001b[0m\u001b[1;33m)\u001b[0m\u001b[1;33m\u001b[0m\u001b[1;33m\u001b[0m\u001b[0m\n\u001b[1;32m----> 7\u001b[1;33m \u001b[0mbackground_label\u001b[0m \u001b[1;33m=\u001b[0m \u001b[0mLabel\u001b[0m\u001b[1;33m(\u001b[0m\u001b[0mtop\u001b[0m\u001b[1;33m,\u001b[0m \u001b[0mimage\u001b[0m\u001b[1;33m=\u001b[0m\u001b[0mfilename\u001b[0m\u001b[1;33m)\u001b[0m\u001b[1;33m\u001b[0m\u001b[1;33m\u001b[0m\u001b[0m\n\u001b[0m\u001b[0;32m      8\u001b[0m \u001b[0mbackground_label\u001b[0m\u001b[1;33m.\u001b[0m\u001b[0mplace\u001b[0m\u001b[1;33m(\u001b[0m\u001b[0mx\u001b[0m\u001b[1;33m=\u001b[0m\u001b[1;36m0\u001b[0m\u001b[1;33m,\u001b[0m \u001b[0my\u001b[0m\u001b[1;33m=\u001b[0m\u001b[1;36m0\u001b[0m\u001b[1;33m,\u001b[0m \u001b[0mrelwidth\u001b[0m\u001b[1;33m=\u001b[0m\u001b[1;36m1\u001b[0m\u001b[1;33m,\u001b[0m \u001b[0mrelheight\u001b[0m\u001b[1;33m=\u001b[0m\u001b[1;36m1\u001b[0m\u001b[1;33m)\u001b[0m\u001b[1;33m\u001b[0m\u001b[1;33m\u001b[0m\u001b[0m\n\u001b[0;32m      9\u001b[0m \u001b[1;33m\u001b[0m\u001b[0m\n",
      "\u001b[1;32m~\\Anaconda3\\lib\\tkinter\\__init__.py\u001b[0m in \u001b[0;36m__init__\u001b[1;34m(self, master, cnf, **kw)\u001b[0m\n\u001b[0;32m   2764\u001b[0m \u001b[1;33m\u001b[0m\u001b[0m\n\u001b[0;32m   2765\u001b[0m         \"\"\"\n\u001b[1;32m-> 2766\u001b[1;33m         \u001b[0mWidget\u001b[0m\u001b[1;33m.\u001b[0m\u001b[0m__init__\u001b[0m\u001b[1;33m(\u001b[0m\u001b[0mself\u001b[0m\u001b[1;33m,\u001b[0m \u001b[0mmaster\u001b[0m\u001b[1;33m,\u001b[0m \u001b[1;34m'label'\u001b[0m\u001b[1;33m,\u001b[0m \u001b[0mcnf\u001b[0m\u001b[1;33m,\u001b[0m \u001b[0mkw\u001b[0m\u001b[1;33m)\u001b[0m\u001b[1;33m\u001b[0m\u001b[1;33m\u001b[0m\u001b[0m\n\u001b[0m\u001b[0;32m   2767\u001b[0m \u001b[1;33m\u001b[0m\u001b[0m\n\u001b[0;32m   2768\u001b[0m \u001b[1;32mclass\u001b[0m \u001b[0mListbox\u001b[0m\u001b[1;33m(\u001b[0m\u001b[0mWidget\u001b[0m\u001b[1;33m,\u001b[0m \u001b[0mXView\u001b[0m\u001b[1;33m,\u001b[0m \u001b[0mYView\u001b[0m\u001b[1;33m)\u001b[0m\u001b[1;33m:\u001b[0m\u001b[1;33m\u001b[0m\u001b[1;33m\u001b[0m\u001b[0m\n",
      "\u001b[1;32m~\\Anaconda3\\lib\\tkinter\\__init__.py\u001b[0m in \u001b[0;36m__init__\u001b[1;34m(self, master, widgetName, cnf, kw, extra)\u001b[0m\n\u001b[0;32m   2297\u001b[0m             \u001b[1;32mdel\u001b[0m \u001b[0mcnf\u001b[0m\u001b[1;33m[\u001b[0m\u001b[0mk\u001b[0m\u001b[1;33m]\u001b[0m\u001b[1;33m\u001b[0m\u001b[1;33m\u001b[0m\u001b[0m\n\u001b[0;32m   2298\u001b[0m         self.tk.call(\n\u001b[1;32m-> 2299\u001b[1;33m             (widgetName, self._w) + extra + self._options(cnf))\n\u001b[0m\u001b[0;32m   2300\u001b[0m         \u001b[1;32mfor\u001b[0m \u001b[0mk\u001b[0m\u001b[1;33m,\u001b[0m \u001b[0mv\u001b[0m \u001b[1;32min\u001b[0m \u001b[0mclasses\u001b[0m\u001b[1;33m:\u001b[0m\u001b[1;33m\u001b[0m\u001b[1;33m\u001b[0m\u001b[0m\n\u001b[0;32m   2301\u001b[0m             \u001b[0mk\u001b[0m\u001b[1;33m.\u001b[0m\u001b[0mconfigure\u001b[0m\u001b[1;33m(\u001b[0m\u001b[0mself\u001b[0m\u001b[1;33m,\u001b[0m \u001b[0mv\u001b[0m\u001b[1;33m)\u001b[0m\u001b[1;33m\u001b[0m\u001b[1;33m\u001b[0m\u001b[0m\n",
      "\u001b[1;31mTclError\u001b[0m: image \"pyimage21\" doesn't exist"
     ]
    }
   ],
   "source": [
    "from tkinter import *\n",
    "from tkinter import messagebox\n",
    "top = Tk()\n",
    "\n",
    "C = Canvas(top, bg=\"blue\", height=250, width=300)\n",
    "filename = PhotoImage(file = \"C:\\\\Users\\\\Goutam\\\\Desktop\\\\project images\\\\1.png\")\n",
    "background_label = Label(top, image=filename)\n",
    "background_label.place(x=0, y=0, relwidth=1, relheight=1)\n",
    "\n",
    "C.pack()\n",
    "top.mainloop()"
   ]
  },
  {
   "cell_type": "code",
   "execution_count": null,
   "metadata": {},
   "outputs": [],
   "source": []
  },
  {
   "cell_type": "code",
   "execution_count": null,
   "metadata": {},
   "outputs": [],
   "source": []
  }
 ],
 "metadata": {
  "kernelspec": {
   "display_name": "Python 3",
   "language": "python",
   "name": "python3"
  },
  "language_info": {
   "codemirror_mode": {
    "name": "ipython",
    "version": 3
   },
   "file_extension": ".py",
   "mimetype": "text/x-python",
   "name": "python",
   "nbconvert_exporter": "python",
   "pygments_lexer": "ipython3",
   "version": "3.8.3"
  }
 },
 "nbformat": 4,
 "nbformat_minor": 4
}
